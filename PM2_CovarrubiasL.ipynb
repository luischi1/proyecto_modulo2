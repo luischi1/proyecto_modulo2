{
 "cells": [
  {
   "cell_type": "markdown",
   "metadata": {},
   "source": [
    "# Problema de Monty Hall #"
   ]
  },
  {
   "cell_type": "markdown",
   "metadata": {},
   "source": [
    "## Objetivos\n",
    "### Objetivo General\n",
    "### Objetivo Específico"
   ]
  },
  {
   "cell_type": "markdown",
   "metadata": {},
   "source": [
    "## Modelo\n",
    "Se tiene el problema de Monty Hall, el cual menciona:\n",
    " \n",
    ">Supón que estás en un concurso, y se te ofrece escoger entre tres puertas: detrás de una de ellas hay un coche, y detrás de las otras, cabras. Escoges una puerta, digamos la n° 1, y el presentador, que sabe lo que hay detrás de las puertas, abre otra, digamos la n° 3, que contiene una cabra. Entonces te pregunta: ¿No prefieres escoger la n° 2? ¿Es mejor para ti cambiar tu elección?\n",
    "\n",
    "![](auto.png)\n",
    "\n",
    "Con las diferentes decisiones, podemos armar un árbol de probabilidades, donde el primer nivel es la probabilidad de cada puerta de tener el premio, el sigueinte nivel es la probabilidad de nosotros eligiendo la puerta, y el último nivel la probabilidad de la puerta que el presentador va a abrir.\n",
    "\n",
    "![](MontyHall.png)\n",
    "\n",
    "El problema surge en la segunda decisión, la cual implica si debemos cambiar de puerta o conservar la que hemos elegido desde un principio, después de que el presentador haya demostrado que detrás de otra hay una cabra. Mucho se piensa que se tendrá la misma probabilidad cambiar de puerta que conservar la que hemos elegido, pero la realidad es que tendremos mayor probabilidad de ganar si cambiamos de puerta. \n",
    "Esto debiudo a que, en primer lugar, cuando elegimos la primera puerta, tenemos $1/3$ de probabilidad de ganar el auto, pero $2/3$ de equivocarnos, es decir, de que las demás puertas contengan el auto. \n",
    "\n",
    "![](puertas.png)\n",
    "\n",
    "Cuando se abre la puerta que contiene una cabra, solamente nos quedan dos opciones: la puerta que elegimos principal y otra. Ahora, el $2/3$ de probabilidad recae totalmente en la puerta que queda sin abrir, mientras que la nuestra mantiene el $1/3$ de poseer el auto. Es por esto que es más probable ganar el auto cambiando de puerta.\n",
    "\n",
    "![](cabra.png)"
   ]
  },
  {
   "cell_type": "markdown",
   "metadata": {},
   "source": [
    "## Solución"
   ]
  },
  {
   "cell_type": "markdown",
   "metadata": {},
   "source": [
    "- Primeramente, importamos las librerías que utilizaremos"
   ]
  },
  {
   "cell_type": "code",
   "execution_count": 1,
   "metadata": {},
   "outputs": [],
   "source": [
    "import numpy as np\n",
    "from matplotlib import pyplot as plt\n",
    "%matplotlib inline"
   ]
  },
  {
   "cell_type": "markdown",
   "metadata": {},
   "source": [
    "- Continuamos con hacer la selección de la puerta que eligiremos y de la puerta tras la que estará el auto. En este caso, serán elegidas aleatoriamente. \n",
    "- Para demostrar que las probabilidades de ganar en esta primera elección son de $1/3$, graficaremos en un histograma las selecciones aleatorias, que resultarán en números muy similares"
   ]
  },
  {
   "cell_type": "code",
   "execution_count": 2,
   "metadata": {},
   "outputs": [
    {
     "data": {
      "image/png": "[encoded data removed]",
      "text/plain": [
       "<Figure size 720x576 with 2 Axes>"
      ]
     },
     "metadata": {
      "needs_background": "light"
     },
     "output_type": "display_data"
    }
   ],
   "source": [
    "# Cantidad de iteraciones\n",
    "N = 100000\n",
    "\n",
    "# La selección del auto se escoge al azar dentro de las opciones\n",
    "auto = np.random.randint(3, size = N) + 1\n",
    "\n",
    "# La puerta que primero escogeremos, será seleccionada al azar\n",
    "primer_selec = np.random.randint(3, size = N) + 1\n",
    "\n",
    "# Graficar elecciones\n",
    "f, ax = plt.subplots(ncols=2, nrows=1, figsize = (10,8))\n",
    "ax[0].hist(auto)\n",
    "ax[0].set_title(\"Posición del auto\")\n",
    "ax[1].hist(primer_selec)\n",
    "ax[1].set_title(\"Primera selección\")\n",
    "plt.show()"
   ]
  },
  {
   "cell_type": "markdown",
   "metadata": {},
   "source": [
    "- A continuación, proseguiremos a desarrollar el algoritmo que nos vaya seleccionando la puerta que abrirá el presentador, y después de esto, decidir si cambiaremos o mantendremos la puerta que hemos elegido al principio.\n",
    "- En este caso iremos contando ambas posibilidades para después compararlas."
   ]
  },
  {
   "cell_type": "code",
   "execution_count": 3,
   "metadata": {},
   "outputs": [
    {
     "name": "stdout",
     "output_type": "stream",
     "text": [
      "Veces Ganando manteniendo la puerta: 33431\n",
      "Veces Ganando cambiando de puerta: 66569\n"
     ]
    }
   ],
   "source": [
    "##Contadores \n",
    "Gana_mantener = 0\n",
    "Gana_cambio = 0\n",
    "\n",
    "for i in range(len(auto)):\n",
    "    puertas = [1,2,3]\n",
    "    \n",
    "    ##Remover la selección y la posición del auto\n",
    "    puertas.remove(primer_selec[i])\n",
    "    if auto[i] in puertas:\n",
    "        puertas.remove(auto[i])\n",
    "    \n",
    "    ## Si la selección y el auto son la misma puerta, seleccionar al azar una puerta que abrirá el presentador\n",
    "    puerta_abierta = puertas[np.random.randint(len(puertas))]\n",
    "    \n",
    "    ## Las nuevas opciones son todas las anteriores menos la que ya está abierta\n",
    "    nuevasop = [1,2,3]\n",
    "    nuevasop.remove(puerta_abierta)\n",
    "    \n",
    "\n",
    "    \n",
    "    ## Cambiar de puerta\n",
    "    nuevasop.remove(primer_selec[i])\n",
    "    cambio_puerta = nuevasop[0]\n",
    "    \n",
    "        \n",
    "    if  auto[i] == primer_selec[i]:\n",
    "        Gana_mantener = Gana_mantener + 1\n",
    "        \n",
    "    if  auto[i] == cambio_puerta:\n",
    "        Gana_cambio = Gana_cambio + 1\n",
    "        \n",
    "\n",
    "print(\"Veces Ganando manteniendo la puerta: %d\"%(Gana_mantener))\n",
    "print(\"Veces Ganando cambiando de puerta: %d\"%(Gana_cambio))"
   ]
  },
  {
   "cell_type": "markdown",
   "metadata": {},
   "source": [
    "- Finalmente, podemos observar que las veces que se gana manteniendo la puera es de aproximadamente $33000$ mientras que las veces que se gana cambiando la puerta son de aproximadamente $66000$, siendo el $33%$ y el $66%$, es decir, $1/3$ y $2/3$ respectivamente."
   ]
  },
  {
   "cell_type": "markdown",
   "metadata": {},
   "source": [
    "## Visualización"
   ]
  },
  {
   "cell_type": "code",
   "execution_count": 4,
   "metadata": {},
   "outputs": [
    {
     "data": {
      "image/png": "[encoded data removed]",
      "text/plain": [
       "<Figure size 432x288 with 1 Axes>"
      ]
     },
     "metadata": {
      "needs_background": "light"
     },
     "output_type": "display_data"
    }
   ],
   "source": [
    "x1 = \"Gana cambiando puerta\"\n",
    "x2 = \"Gana manteniendo puerta\"\n",
    "y1 = Gana_cambio\n",
    "y2 = Gana_mantener\n",
    "\n",
    "\n",
    "plt.plot(x1,y1,'*',linewidth=10)\n",
    "plt.plot(x2,y2,'X',linewidth=10,color='g')\n",
    "plt.grid()\n",
    "plt.ylabel('Número de veces')\n",
    "plt.title('¿Cómo gana?')\n",
    "plt.show()"
   ]
  },
  {
   "cell_type": "markdown",
   "metadata": {},
   "source": [
    "## Conclusiones"
   ]
  },
  {
   "cell_type": "markdown",
   "metadata": {},
   "source": [
    "## Referencias\n",
    "Batanero Bernabeu, C., Fernandes, J. and Contreras García, J. (2009). Un análisis semiótico del problema de Monty Hall e implicaciones didácticas. Suma +, [online] (62), pp.11-18. Available at: http://www.ugr.es/~batanero/pages/ARTICULOS/suma.pdf [Accessed 13 Nov. 2019]."
   ]
  }
 ],
 "metadata": {
  "kernelspec": {
   "display_name": "Python 3",
   "language": "python",
   "name": "python3"
  },
  "language_info": {
   "codemirror_mode": {
    "name": "ipython",
    "version": 3
   },
   "file_extension": ".py",
   "mimetype": "text/x-python",
   "name": "python",
   "nbconvert_exporter": "python",
   "pygments_lexer": "ipython3",
   "version": "3.7.1"
  }
 },
 "nbformat": 4,
 "nbformat_minor": 2
}
