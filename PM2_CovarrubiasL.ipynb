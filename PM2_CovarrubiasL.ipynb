{
 "cells": [
  {
   "cell_type": "markdown",
   "metadata": {},
   "source": [
    "# Problema de Monty Hall #"
   ]
  },
  {
   "cell_type": "markdown",
   "metadata": {},
   "source": [
    "## Objetivos\n",
    "### Objetivo General\n",
    "### Objetivo Específico"
   ]
  },
  {
   "cell_type": "markdown",
   "metadata": {},
   "source": [
    "## Modelo\n",
    "Se tiene el problema de Monty Hall, el cual menciona:\n",
    " \n",
    ">Supón que estás en un concurso, y se te ofrece escoger entre tres puertas: detrás de una de ellas hay un coche, y detrás de las otras, cabras. Escoges una puerta, digamos la n° 1, y el presentador, que sabe lo que hay detrás de las puertas, abre otra, digamos la n° 3, que contiene una cabra. Entonces te pregunta: ¿No prefieres escoger la n° 2? ¿Es mejor para ti cambiar tu elección?\n",
    "\n",
    "![](MontyHall.png)\n",
    "\n",
    "El problema surge en la segunda decisión, la cual implica si debemos cambiar de puerta o conservar la que hemos elegido desde un principio, después de que el presentador haya demostrado que detrás de otra hay una cabra. Mucho se piensa que se tendrá la misma probabilidad cambiar de puerta que conservar la que hemos elegido, pero la realidad es que tendremos mayor probabilidad de ganar si cambiamos de puerta."
   ]
  },
  {
   "cell_type": "markdown",
   "metadata": {},
   "source": [
    "## Solución"
   ]
  },
  {
   "cell_type": "markdown",
   "metadata": {},
   "source": [
    "## Visualización"
   ]
  },
  {
   "cell_type": "markdown",
   "metadata": {},
   "source": [
    "## Conclusiones"
   ]
  },
  {
   "cell_type": "markdown",
   "metadata": {},
   "source": [
    "## Referencias\n",
    "Batanero Bernabeu, C., Fernandes, J. and Contreras García, J. (2009). Un análisis semiótico del problema de Monty Hall e implicaciones didácticas. Suma +, [online] (62), pp.11-18. Available at: http://www.ugr.es/~batanero/pages/ARTICULOS/suma.pdf [Accessed 13 Nov. 2019]."
   ]
  }
 ],
 "metadata": {
  "kernelspec": {
   "display_name": "Python 3",
   "language": "python",
   "name": "python3"
  },
  "language_info": {
   "codemirror_mode": {
    "name": "ipython",
    "version": 3
   },
   "file_extension": ".py",
   "mimetype": "text/x-python",
   "name": "python",
   "nbconvert_exporter": "python",
   "pygments_lexer": "ipython3",
   "version": "3.7.1"
  }
 },
 "nbformat": 4,
 "nbformat_minor": 2
}
